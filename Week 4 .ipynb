{
    "cells": [
        {
            "cell_type": "markdown",
            "metadata": {
                "collapsed": true
            },
            "source": "# New Korean Restaurant in Durham, NC\n## Week 4: Introduction to Capstone Project\n## By Roy Auh\n\n"
        },
        {
            "cell_type": "markdown",
            "metadata": {},
            "source": "*Background and Problem* "
        },
        {
            "cell_type": "markdown",
            "metadata": {},
            "source": "Durham, NC, is a small city in the center of North Carolina that is home to Duke University, a highly ranked world-class university that attracts an international body of students, staff, and faculty. A sizable group within the non-Durhamites that regularly come to Durham for Duke University is the Korean American population. One of the most common complaints from this group is the lack of Korean culinary options in the area. If there is a Korean restaurant that opens in Durham, that will restaurant will be a hit not only among the Korean American population in Durham, but also among all the visiting families to the Korean Americans in Durham already. This project will serve to identify the optimal location for a new Korean restaurant that will target the Korean American population in Durham and nearby North Carolina neighborhoods.\n\n"
        },
        {
            "cell_type": "markdown",
            "metadata": {},
            "source": "*Data Methodology*"
        },
        {
            "cell_type": "markdown",
            "metadata": {},
            "source": "In order to identify the best location for a new Korean restaurant, there are these factors to consider:\n\n1. Consideration of any other Korean restaurants in Durham\n2. Consideration of nearby Asian restaurants in Durham\n\nToo close to any above restaurants will endanger the success of this new Korean restaurant, especially in regards to (2) because non-Asian population will conceptually equate Korean and Asian restaurants and consider them a duplicate.\n\nTherefore, to determine the optimum location of the new Korean restaurant, we will need data on these:\n\n1. Locations of Korean restaurants in Durham\n2. Locations of Asian restaurants in Durham"
        },
        {
            "cell_type": "code",
            "execution_count": null,
            "metadata": {},
            "outputs": [],
            "source": ""
        }
    ],
    "metadata": {
        "kernelspec": {
            "display_name": "Python 3.6",
            "language": "python",
            "name": "python3"
        },
        "language_info": {
            "codemirror_mode": {
                "name": "ipython",
                "version": 3
            },
            "file_extension": ".py",
            "mimetype": "text/x-python",
            "name": "python",
            "nbconvert_exporter": "python",
            "pygments_lexer": "ipython3",
            "version": "3.6.9"
        }
    },
    "nbformat": 4,
    "nbformat_minor": 1
}